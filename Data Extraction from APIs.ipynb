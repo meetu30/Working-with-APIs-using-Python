{
 "cells": [
  {
   "cell_type": "markdown",
   "metadata": {},
   "source": [
    "# Data Extraction from APIs\n",
    "There are several popular platforms that give developers access to their “web services”, aka “APIs” (Application Programming Interface). So using APIs is the official way for data extraction and doing other stuff allowed by such applications. You can even benefit from some APIs to build other applications. REST APIs usually generate output in JSON or XML format because most of programming languages can handle these formats easily. In fact, JSON (JavaScript Object Notation) is very similar to data types in programming languages; for example, it is very similar to Python dictionaries. If a REST API allows you to get the data you want to retrieve, then you do not need regular web scraping.\n",
    "Some APIs require authentication (API Key or Client ID and Client Secret, similar to a username and password, so to speak) to control their usage, and some do not.\n",
    "    "
   ]
  },
  {
   "cell_type": "markdown",
   "metadata": {},
   "source": [
    "# API versus Web Scrapping\n",
    "The goal of both web scraping and APIs is to access web data.\n",
    "\n",
    "Web scraping allows you to extract data from any website through the use of web scraping software. On the other hand, APIs give you direct access to the data you’d want."
   ]
  },
  {
   "cell_type": "markdown",
   "metadata": {},
   "source": [
    "# API Flow \n",
    "<img src=\"API_Flow.png\" width=400 height=200/>"
   ]
  },
  {
   "cell_type": "markdown",
   "metadata": {},
   "source": [
    "The flow illustrated in Figure 1 includes the following steps:\n",
    "(A) The client (typically, a web application) initiates the flow by directing the\n",
    "resource owner's user agent (typically, a web browser) to the authorization\n",
    "endpoint. The client's request includes the client identifier, requested scope,\n",
    "local state, and a redirection URI. The authorization server directs the user\n",
    "agent (typically, a web browser) back to the redirect URI after the access is\n",
    "granted (or denied).\n",
    "(B) The resource owner authenticates with the authorization server through\n",
    "the user agent and grants or denies the client's access request.\n",
    "(C) If the resource owner grants access, the authorization server redirects the\n",
    "user agent (typically, a web browser) back to the client using the redirection URI\n",
    "provided earlier (in the request or during client registration). The redirection URI\n",
    "includes an authorization code and any local state provided by the client earlier.\n",
    "(D) The client makes an access token request from the authorization server's token\n",
    "endpoint by including the authorization code received in the previous step. When\n",
    "making the request, the client authenticates with the authorization server using\n",
    "the client credentials. The client also includes the redirection URI used to obtain\n",
    "the authorization code for verification.\n",
    "(E) The authorization server authenticates the client. It validates the authorization\n",
    "code and ensures that the redirection URI received matches the URI used to redirect\n",
    "the client in step (C). If valid, the authorization server responds back with an access\n",
    "token and, optionally, a refresh token in case an offline access was requested.\n",
    "\n",
    "Using this Access token and other credentials such as client ID, secret key etc. API call is made to access web data\n",
    "** https://www.programmersought.com/article/9194354312/\n",
    "    "
   ]
  },
  {
   "cell_type": "code",
   "execution_count": null,
   "metadata": {},
   "outputs": [],
   "source": []
  },
  {
   "cell_type": "code",
   "execution_count": null,
   "metadata": {},
   "outputs": [],
   "source": []
  },
  {
   "cell_type": "code",
   "execution_count": null,
   "metadata": {},
   "outputs": [],
   "source": []
  }
 ],
 "metadata": {
  "kernelspec": {
   "display_name": "Python 3",
   "language": "python",
   "name": "python3"
  },
  "language_info": {
   "codemirror_mode": {
    "name": "ipython",
    "version": 3
   },
   "file_extension": ".py",
   "mimetype": "text/x-python",
   "name": "python",
   "nbconvert_exporter": "python",
   "pygments_lexer": "ipython3",
   "version": "3.8.5"
  }
 },
 "nbformat": 4,
 "nbformat_minor": 4
}
